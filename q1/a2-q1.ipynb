{
 "cells": [
  {
   "cell_type": "markdown",
   "metadata": {},
   "source": [
    "# Question 1\n",
    "\n",
    "Develop a feed forward neural network in python that classifies the images found in the MNIST dataset. You are to train your neural network using backpropagation. You must show that you have:\n",
    "\n",
    "- Performed K-fold cross correlation.\n",
    "- Used weight decay for regularization.\n",
    "- Investigated the performance of your neural network for different (a) numbers of hidden layers and (b) size of - hidden layers."
   ]
  },
  {
   "cell_type": "code",
   "execution_count": 12,
   "metadata": {},
   "outputs": [
    {
     "name": "stdout",
     "output_type": "stream",
     "text": [
      "Found and verified .cache\\train-images-idx3-ubyte.gz\n",
      "Found and verified .cache\\t10k-images-idx3-ubyte.gz\n",
      "Found and verified .cache\\train-labels-idx1-ubyte.gz\n",
      "Found and verified .cache\\t10k-labels-idx1-ubyte.gz\n",
      "Performing pickle.load(.cache\\train-images-idx3-ubyte.pickle)\n",
      "Performing pickle.load(.cache\\train-labels-idx1-ubyte.pickle)\n",
      "Performing pickle.load(.cache\\t10k-images-idx3-ubyte.pickle)\n",
      "Performing pickle.load(.cache\\t10k-labels-idx1-ubyte.pickle)\n"
     ]
    }
   ],
   "source": [
    "%matplotlib inline\n",
    "\n",
    "import numpy as np\n",
    "from lib.Network import Network, sigmoid\n",
    "from lib.util import *\n",
    "# This is a simple example with one layer, it's not sufficient\n",
    "# Just to kind of get started\n",
    "with(open('config.json', 'r')) as f:\n",
    "    config = json.load(f)\n",
    "\n",
    "train_filename_gz = maybe_download(config['train']['images'], 9912422)\n",
    "test_filename_gz = maybe_download(config['test']['images'], 1648877)\n",
    "train_labels_gz = maybe_download(config['train']['labels'], 28881)\n",
    "test_labels_gz = maybe_download(config['test']['labels'], 4542)\n",
    "\n",
    "train_pickle = extract(train_filename_gz)\n",
    "train_labels_pickle = extract(train_labels_gz)\n",
    "test_pickle = extract(test_filename_gz)\n",
    "test_labels_pickle = extract(test_labels_gz)\n",
    "\n",
    "train_data = load_pickle(train_pickle)\n",
    "train_labels = load_pickle(train_labels_pickle)\n",
    "test_data = load_pickle(test_pickle)\n",
    "test_labels = load_pickle(test_labels_pickle)\n",
    "\n",
    "# There are now 60,000 items of length 784 (28x28)\n",
    "# This will serve as input to neural network\n",
    "# Each cell will have 784 inputs\n",
    "input_training = train_data.reshape(60000, 784)"
   ]
  },
  {
   "cell_type": "markdown",
   "metadata": {},
   "source": [
    "We will experiment with different Neural Network configurations to try and maximize accuracy. I've put together a couple configurations that I will include in the `.cache` directory - accessible through `interactive-brain.py`."
   ]
  },
  {
   "cell_type": "code",
   "execution_count": 13,
   "metadata": {
    "collapsed": true
   },
   "outputs": [],
   "source": [
    "configurations = [\n",
    "    {\n",
    "        \"learning_rate\": 0.25,\n",
    "        \"tolerance\": 0.01,\n",
    "        \"max_iter\": 100,\n",
    "        \"layers\": [784, 20, 10]\n",
    "    },\n",
    "    {\n",
    "        \"learning_rate\": 0.25,\n",
    "        \"tolerance\": 0.01,\n",
    "        \"max_iter\": 100,\n",
    "        \"layers\": [784, 30, 15, 10]\n",
    "    }\n",
    "]"
   ]
  },
  {
   "cell_type": "code",
   "execution_count": 14,
   "metadata": {
    "collapsed": true
   },
   "outputs": [],
   "source": [
    "for config in configurations:\n",
    "    net = Network(learning_rate=config['learning_rate'], tolerance=config['tolerance'], max_iter=config['max_iter'])\n",
    "    \n",
    "    for layer in config['layers']:\n",
    "        net.add_layer(layer, sigmoid)"
   ]
  },
  {
   "cell_type": "markdown",
   "metadata": {},
   "source": [
    "For the purpose of the document, I've already cached a couple brains for testing.\n",
    "\n",
    "I'll display some information regarding each system, and then use weight decay regularization to compare them (essentially adding a bias term to the measured network error."
   ]
  },
  {
   "cell_type": "code",
   "execution_count": 15,
   "metadata": {
    "collapsed": true
   },
   "outputs": [],
   "source": [
    "import dill\n",
    "import matplotlib.pyplot as plt\n",
    "import numpy as np\n",
    "import pandas as pd\n",
    "\n",
    "def accuracy(net):\n",
    "    plot = {\n",
    "        \"Accuracy\": net.accuracy_list,\n",
    "        \"Confidence_Interval min\": [net.confidence_interval[0]] * len(net.accuracy_list),\n",
    "        \"Confidence_Interval max\": [net.confidence_interval[1]] * len(net.accuracy_list),\n",
    "    }\n",
    "    fig, ax = plt.subplots()\n",
    "    errors = pd.DataFrame(plot)\n",
    "    errors.plot(ax=ax)\n",
    "    plt.title(BRAIN)\n",
    "\n",
    "    plt.show()"
   ]
  },
  {
   "cell_type": "markdown",
   "metadata": {},
   "source": [
    "Here we will test our first network configuration."
   ]
  },
  {
   "cell_type": "code",
   "execution_count": 16,
   "metadata": {},
   "outputs": [
    {
     "name": "stdout",
     "output_type": "stream",
     "text": [
      "Inspecting .cache/brain--learning_rate=0.25&tol=0.01&max_iter=100&n_splits=10&layers=784-20-10.pickle\n",
      "Mean accuracy: 0.842\n",
      "Confidence Interval: (0.7299107498463836, 0.95408925015361634)\n"
     ]
    },
    {
     "data": {
      "image/png": "[encoded data removed]",
      "text/plain": [
       "<matplotlib.figure.Figure at 0x108d09b0>"
      ]
     },
     "metadata": {},
     "output_type": "display_data"
    }
   ],
   "source": [
    "BRAIN = '.cache/brain--learning_rate=0.25&tol=0.01&max_iter=100&n_splits=10&layers=784-20-10.pickle'\n",
    "\n",
    "net = pickle.load(open(BRAIN, 'rb'))\n",
    "\n",
    "print 'Inspecting %s' % BRAIN\n",
    "print 'Mean accuracy:', net.mean_accuracy\n",
    "print 'Confidence Interval:', net.confidence_interval\n",
    "\n",
    "accuracy(net)"
   ]
  },
  {
   "cell_type": "markdown",
   "metadata": {},
   "source": [
    "The system we just computed has only one hidden layer with 20 hidden units.\n",
    "\n",
    "We'll now experiment with a network configuration with two hidden layers, with **30, and 15 hidden units**."
   ]
  },
  {
   "cell_type": "code",
   "execution_count": 17,
   "metadata": {},
   "outputs": [
    {
     "name": "stdout",
     "output_type": "stream",
     "text": [
      "Inspecting .cache/brain--learning_rate=0.25&tol=0.01&max_iter=100&n_splits=10&layers=784-30-15-10.pickle\n",
      "Mean accuracy: 0.832\n",
      "Confidence Interval: (0.73359268319885973, 0.93040731680114042)\n"
     ]
    },
    {
     "data": {
      "image/png": "[encoded data removed]",
      "text/plain": [
       "<matplotlib.figure.Figure at 0xd6ccc88>"
      ]
     },
     "metadata": {},
     "output_type": "display_data"
    }
   ],
   "source": [
    "BRAIN = '.cache/brain--learning_rate=0.25&tol=0.01&max_iter=100&n_splits=10&layers=784-30-15-10.pickle'\n",
    "\n",
    "net = pickle.load(open(BRAIN, 'rb'))\n",
    "\n",
    "print 'Inspecting %s' % BRAIN\n",
    "print 'Mean accuracy:', net.mean_accuracy\n",
    "print 'Confidence Interval:', net.confidence_interval\n",
    "\n",
    "accuracy(net)"
   ]
  },
  {
   "cell_type": "markdown",
   "metadata": {},
   "source": [
    "The two *brains* here that have been computed are just cached instances of the neural network being trained. The system trains pretty slow, so I thought I'd include them for convenience sake. They can be found in the `.cache` folder. Their configuration is described in the filename."
   ]
  },
  {
   "cell_type": "markdown",
   "metadata": {},
   "source": [
    "<center>\n",
    "    Now that we have two systems, with same params but different configurations, we can compare them to see which one is better.\n",
    "\n",
    "    With weight decay regularization, we can determine what system is preferred. We choose a $\\lambda{}$, such that the effect of $w^{T}w$, as a bias, doesn't completely overwrite the measure of $MSE_{final}$\n",
    "</center>\n",
    "\n",
    "\n",
    "$$E[w] = MSE_{final} + \\lambda{} w^{T}w$$\n",
    "    \n",
    "<br/>\n",
    "<center>\n",
    "    First thing to consider is how to choose a proper $\\lambda{}$.\n",
    "    We'll find a lambda term that affects the result by 10%.\n",
    "</center>\n",
    "\n",
    "$$\\begin{align}\n",
    "    \\frac{MSE_{final}}{\\lambda{}w^{T}w} &> 10 \\\\\n",
    "    \\frac{MSE_{final}}{10 \\cdot w^{T}w} &> \\lambda{}\n",
    "\\end{align}$$\n",
    "<br/>\n",
    "<center>Using MSE for the first system (784-20-10) to calculate the lambda.</center>"
   ]
  },
  {
   "cell_type": "code",
   "execution_count": 18,
   "metadata": {
    "collapsed": true
   },
   "outputs": [],
   "source": [
    "def flatten_weights(net):\n",
    "    ws = []\n",
    "    for layer in net.layers[1:]:\n",
    "        for cell in layer.cells:\n",
    "            for weight in cell.weights:\n",
    "                ws.append(weight)\n",
    "    return np.array(ws)"
   ]
  },
  {
   "cell_type": "code",
   "execution_count": 20,
   "metadata": {},
   "outputs": [
    {
     "name": "stdout",
     "output_type": "stream",
     "text": [
      "Lambda is  4.21940312617e-05\n",
      "net_1_error 0.9262\n",
      "net_2_error 0.951035756856\n"
     ]
    }
   ],
   "source": [
    "n1 = '.cache/brain--learning_rate=0.25&tol=0.01&max_iter=100&n_splits=10&layers=784-20-10.pickle'\n",
    "n2 = '.cache/brain--learning_rate=0.25&tol=0.01&max_iter=100&n_splits=10&layers=784-30-15-10.pickle'\n",
    "\n",
    "net_1 = pickle.load(open(n1, 'rb'))\n",
    "net_2 = pickle.load(open(n2, 'rb'))\n",
    "\n",
    "w = flatten_weights(net_1)\n",
    "\n",
    "wTw = np.dot(w.T, w)\n",
    "\n",
    "_lambda = net_1.mean_accuracy / (10 * wTw)\n",
    "\n",
    "print 'Lambda is ', _lambda\n",
    "\n",
    "E_n1 = net_1.mean_accuracy + _lambda * wTw\n",
    "\n",
    "w = flatten_weights(net_2)\n",
    "\n",
    "wTw = np.dot(w.T, w)\n",
    "\n",
    "E_n2 = net_2.mean_accuracy + _lambda * wTw\n",
    "\n",
    "print 'net_1_error', E_n1\n",
    "print 'net_2_error', E_n2"
   ]
  },
  {
   "cell_type": "markdown",
   "metadata": {},
   "source": [
    "Since our goal here is to minimize error, it becomes clear that network 1 performs better (as `net_1_error < net_2_error`), when accounting for weight decay."
   ]
  },
  {
   "cell_type": "markdown",
   "metadata": {},
   "source": [
    "As for the training itself, this can be seen in `./a2-q1.py`."
   ]
  }
 ],
 "metadata": {
  "kernelspec": {
   "display_name": "Python 2",
   "language": "python",
   "name": "python2"
  },
  "language_info": {
   "codemirror_mode": {
    "name": "ipython",
    "version": 2
   },
   "file_extension": ".py",
   "mimetype": "text/x-python",
   "name": "python",
   "nbconvert_exporter": "python",
   "pygments_lexer": "ipython2",
   "version": "2.7.13"
  }
 },
 "nbformat": 4,
 "nbformat_minor": 2
}
