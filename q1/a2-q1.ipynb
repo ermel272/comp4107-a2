{
 "cells": [
  {
   "cell_type": "code",
   "execution_count": 2,
   "metadata": {},
   "outputs": [
    {
     "name": "stdout",
     "output_type": "stream",
     "text": [
      "Found and verified .cache/train-images-idx3-ubyte.gz\n",
      "Found and verified .cache/t10k-images-idx3-ubyte.gz\n",
      "Found and verified .cache/train-labels-idx1-ubyte.gz\n",
      "Found and verified .cache/t10k-labels-idx1-ubyte.gz\n",
      "Performing pickle.load(.cache/train-images-idx3-ubyte.pickle)\n",
      "Performing pickle.load(.cache/train-labels-idx1-ubyte.pickle)\n",
      "Performing pickle.load(.cache/t10k-images-idx3-ubyte.pickle)\n",
      "Performing pickle.load(.cache/t10k-labels-idx1-ubyte.pickle)\n"
     ]
    }
   ],
   "source": [
    "%matplotlib inline\n",
    "\n",
    "import numpy as np\n",
    "from lib.Network import Network, sigmoid\n",
    "from lib.util import *\n",
    "# This is a simple example with one layer, it's not sufficient\n",
    "# Just to kind of get started\n",
    "with(open('config.json', 'r')) as f:\n",
    "    config = json.load(f)\n",
    "\n",
    "train_filename_gz = maybe_download(config['train']['images'], 9912422)\n",
    "test_filename_gz = maybe_download(config['test']['images'], 1648877)\n",
    "train_labels_gz = maybe_download(config['train']['labels'], 28881)\n",
    "test_labels_gz = maybe_download(config['test']['labels'], 4542)\n",
    "\n",
    "train_pickle = extract(train_filename_gz)\n",
    "train_labels_pickle = extract(train_labels_gz)\n",
    "test_pickle = extract(test_filename_gz)\n",
    "test_labels_pickle = extract(test_labels_gz)\n",
    "\n",
    "train_data = load_pickle(train_pickle)\n",
    "train_labels = load_pickle(train_labels_pickle)\n",
    "test_data = load_pickle(test_pickle)\n",
    "test_labels = load_pickle(test_labels_pickle)\n",
    "\n",
    "# There are now 60,000 items of length 784 (28x28)\n",
    "# This will serve as input to neural network\n",
    "# Each cell will have 784 inputs\n",
    "input_training = train_data.reshape(60000, 784)"
   ]
  },
  {
   "cell_type": "markdown",
   "metadata": {},
   "source": [
    "We will experiment with different Neural Network configurations to try and maximize accuracy. I've put together a couple configurations that I will include in the `.cache` directory - accessible through `interactive-brain.py`."
   ]
  },
  {
   "cell_type": "code",
   "execution_count": null,
   "metadata": {
    "collapsed": true
   },
   "outputs": [],
   "source": [
    "configurations = [\n",
    "    {\n",
    "        \"cache\": \"brain=0.0125-785-50-30-10.pickle\",\n",
    "        \"learning_rate\": 0.0125,\n",
    "        \"layers\": [784, 50, 30, 10]\n",
    "    },\n",
    "    {\n",
    "        \"cache\": \"brain=0.025-785-50-30-10.pickle\",\n",
    "        \"learning_rate\": 0.025,\n",
    "        \"layers\": [784, 50, 30, 10]\n",
    "    },\n",
    "    {\n",
    "        \"cache\": \"brain=0.025-785-50-10.pickle\",\n",
    "        \"learning_rate\": 0.025,\n",
    "        \"layers\": [784, 50, 10]\n",
    "    },\n",
    "    {\n",
    "        \"cache\": \"brain=0.05-784-20-10.pickle\",\n",
    "        \"learning_rate\": 0.05,\n",
    "        \"layers\": [784, 20, 10]\n",
    "    }\n",
    "]"
   ]
  },
  {
   "cell_type": "code",
   "execution_count": null,
   "metadata": {
    "collapsed": true
   },
   "outputs": [],
   "source": [
    "for config in configurations:\n",
    "    net = Network(learning_rate=config['learning_rate'])\n",
    "    \n",
    "    for layer in config['layers']:\n",
    "        net.add_layer(layer, sigmoid)\n",
    "    maybe_pickle(config['cache'], net)\n",
    "        "
   ]
  }
 ],
 "metadata": {
  "kernelspec": {
   "display_name": "Python 2",
   "language": "python",
   "name": "python2"
  },
  "language_info": {
   "codemirror_mode": {
    "name": "ipython",
    "version": 2
   },
   "file_extension": ".py",
   "mimetype": "text/x-python",
   "name": "python",
   "nbconvert_exporter": "python",
   "pygments_lexer": "ipython2",
   "version": "2.7.13"
  }
 },
 "nbformat": 4,
 "nbformat_minor": 2
}
